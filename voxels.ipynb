{
 "cells": [
  {
   "cell_type": "code",
   "execution_count": null,
   "metadata": {},
   "outputs": [],
   "source": [
    "from tools import train_net_shapenet"
   ]
  },
  {
   "cell_type": "code",
   "execution_count": null,
   "metadata": {},
   "outputs": [],
   "source": [
    "class args:\n",
    "    config_file = \"configs/shapenet/voxmesh_R50.yaml\"\n",
    "    opts = \"\"\n",
    "    num_gpus = 0\n",
    "    data_dir = 'ShapeNetV1processed'\n",
    "    copy_data = False\n",
    "    no_color = True"
   ]
  },
  {
   "cell_type": "code",
   "execution_count": null,
   "metadata": {},
   "outputs": [],
   "source": [
    "cfg = train_net_shapenet.setup(args())\n",
    "loaders = train_net_shapenet.setup_loaders(cfg)"
   ]
  },
  {
   "cell_type": "code",
   "execution_count": null,
   "metadata": {},
   "outputs": [],
   "source": [
    "from plotly.subplots import make_subplots\n",
    "import numpy as np\n",
    "import plotly.graph_objects as go\n",
    "\n",
    "for i, batch in enumerate(loaders[\"train\"]):\n",
    "    batch = loaders[\"train\"].postprocess(batch, 'cpu')\n",
    "    _, _, _, _, voxels_gt = batch\n",
    "   \n",
    "    fig = make_subplots(\n",
    "    rows=6, cols=1,\n",
    "    specs=[[{'type': 'volume'}],\n",
    "           [{'type': 'volume'}],\n",
    "           [{'type': 'volume'}],\n",
    "           [{'type': 'volume'}],\n",
    "           [{'type': 'volume'}],           \n",
    "           [{'type': 'volume'}]])    \n",
    "     \n",
    "    for index in range(0, 6):\n",
    " \n",
    "        X, Y, Z = np.mgrid[0:48:48j, 0:48:48j, 0:48:48j]\n",
    "\n",
    "        fig.add_trace(\n",
    "            go.Volume(\n",
    "                x=X.flatten(),\n",
    "                y=Y.flatten(),\n",
    "                z=Z.flatten(),\n",
    "                value=voxels_gt[index].detach().numpy().flatten(),\n",
    "                isomin=0,\n",
    "                isomax=1,\n",
    "                opacity=0.1, # needs to be small to see through all surfaces\n",
    "                surface_count=20, # needs to be a large number for good volume rendering\n",
    "                ),\n",
    "            row=index + 1,\n",
    "            col=1,\n",
    "        )   \n",
    "\n",
    "        print(np.histogram(voxels_gt[index].detach().numpy().flatten()))\n",
    "  \n",
    "    fig.show()\n",
    "     \n",
    "    break"
   ]
  }
 ],
 "metadata": {
  "kernelspec": {
   "display_name": "Python 3 (ipykernel)",
   "language": "python",
   "name": "python3"
  },
  "language_info": {
   "codemirror_mode": {
    "name": "ipython",
    "version": 3
   },
   "file_extension": ".py",
   "mimetype": "text/x-python",
   "name": "python",
   "nbconvert_exporter": "python",
   "pygments_lexer": "ipython3",
   "version": "3.9.12"
  }
 },
 "nbformat": 4,
 "nbformat_minor": 1
}
